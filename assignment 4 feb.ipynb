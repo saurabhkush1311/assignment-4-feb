{
 "cells": [
  {
   "cell_type": "code",
   "execution_count": 39,
   "id": "f704bb4e-15f3-4d0d-99b2-76ce2ef7f6c7",
   "metadata": {},
   "outputs": [
    {
     "name": "stdout",
     "output_type": "stream",
     "text": [
      "THE GIVEN LIST IS [('Sachin Tendulkar', 34357), ('Ricky Ponting', 27483), ('Jack Kallis', 25534), ('Virat Kohli', 24936)]\n",
      "THE SORTED LIST IS [('Virat Kohli', 24936), ('Jack Kallis', 25534), ('Ricky Ponting', 27483), ('Sachin Tendulkar', 34357)]\n"
     ]
    }
   ],
   "source": [
    "#Question 1:\n",
    "#Answer:\n",
    "m = [('Sachin Tendulkar',34357),('Ricky Ponting',27483),('Jack Kallis',25534),('Virat Kohli',24936)]\n",
    "print(\"THE GIVEN LIST IS\",m)\n",
    "n = sorted(m,key = (lambda x: x[1]))\n",
    "print(\"THE SORTED LIST IS\",n)"
   ]
  },
  {
   "cell_type": "code",
   "execution_count": 10,
   "id": "f54a2d80-ee19-4ae1-a896-f1f9c7d957fb",
   "metadata": {},
   "outputs": [
    {
     "name": "stdout",
     "output_type": "stream",
     "text": [
      "[1, 4, 9, 16, 25, 36, 49, 64, 81, 100]\n"
     ]
    }
   ],
   "source": [
    "#Question 2:\n",
    "#Answer:\n",
    "l = [1,2,3,4,5,6,7,8,9,10]\n",
    "a = list(map((lambda x : x**2),l))\n",
    "print(a)"
   ]
  },
  {
   "cell_type": "code",
   "execution_count": 22,
   "id": "81664d6f-1f07-4840-92a8-745adcbac432",
   "metadata": {},
   "outputs": [
    {
     "name": "stdout",
     "output_type": "stream",
     "text": [
      "('1', '2', '3', '4', '5', '6', '7', '8', '9', '10')\n"
     ]
    }
   ],
   "source": [
    "#Question 3:\n",
    "#Answer:\n",
    "l1 = [1,2,3,4,5,6,7,8,9,10]\n",
    "b = tuple(map((lambda x : str(x)),l1))\n",
    "print(b)\n"
   ]
  },
  {
   "cell_type": "code",
   "execution_count": 28,
   "id": "ccacd41d-559c-40b4-9624-5e5b7cf09244",
   "metadata": {},
   "outputs": [
    {
     "name": "stdout",
     "output_type": "stream",
     "text": [
      "[1, 2, 3, 4, 5, 6, 7, 8, 9, 10, 11, 12, 13, 14, 15, 16, 17, 18, 19, 20, 21, 22, 23, 24, 25]\n",
      "15511210043330985984000000\n"
     ]
    }
   ],
   "source": [
    "#Question 4:\n",
    "#Answer:\n",
    "from functools import reduce\n",
    "l2 = []\n",
    "for i in range(1,26):\n",
    "    l2.append(i)\n",
    "print(l2)\n",
    "product = reduce((lambda x,y : x*y),l2)\n",
    "print(product)"
   ]
  },
  {
   "cell_type": "code",
   "execution_count": 31,
   "id": "265a45fa-a833-4ed6-b52c-ec8b8ab498aa",
   "metadata": {},
   "outputs": [
    {
     "name": "stdout",
     "output_type": "stream",
     "text": [
      "[6, 60, 90, 120]\n"
     ]
    }
   ],
   "source": [
    "#Question 5:\n",
    "#Answer:\n",
    "l3 = [2,3,6,9,27,60,90,120,55,46]\n",
    "d = list(filter((lambda x: x%2==0 and x%3==0),l3))\n",
    "print(d)"
   ]
  },
  {
   "cell_type": "code",
   "execution_count": 35,
   "id": "597825fe-80b2-4250-a64e-c270ff139cb9",
   "metadata": {},
   "outputs": [
    {
     "name": "stdout",
     "output_type": "stream",
     "text": [
      "['php', 'aba', 'radar', 'level']\n"
     ]
    }
   ],
   "source": [
    "#Question 7:\n",
    "#Answer:\n",
    "s = ['python','php','aba','radar','level']\n",
    "palindrome = list(filter((lambda x : x==x[::-1]),s))\n",
    "print(palindrome)"
   ]
  },
  {
   "cell_type": "code",
   "execution_count": null,
   "id": "283a6819-4a2a-4c2f-b63c-cc2dcff3049e",
   "metadata": {},
   "outputs": [],
   "source": []
  }
 ],
 "metadata": {
  "kernelspec": {
   "display_name": "Python 3 (ipykernel)",
   "language": "python",
   "name": "python3"
  },
  "language_info": {
   "codemirror_mode": {
    "name": "ipython",
    "version": 3
   },
   "file_extension": ".py",
   "mimetype": "text/x-python",
   "name": "python",
   "nbconvert_exporter": "python",
   "pygments_lexer": "ipython3",
   "version": "3.10.8"
  }
 },
 "nbformat": 4,
 "nbformat_minor": 5
}
